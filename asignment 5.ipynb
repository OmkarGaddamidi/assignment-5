{
 "cells": [
  {
   "cell_type": "code",
   "execution_count": 2,
   "id": "c4b8f9fe",
   "metadata": {},
   "outputs": [
    {
     "name": "stdout",
     "output_type": "stream",
     "text": [
      "Enter 'x' value :10\n",
      "Enter 'n' value :2\n",
      "pow( 10 , 2 ) = 100\n"
     ]
    }
   ],
   "source": [
    "class power:\n",
    "    def pow(self,x,n):\n",
    "        print(\"pow(\",x,\",\",n,\") =\",x**n)\n",
    "p=power()\n",
    "x=int(input(\"Enter 'x' value :\"))\n",
    "n=int(input(\"Enter 'n' value :\"))\n",
    "p.pow(x,n)"
   ]
  }
 ],
 "metadata": {
  "kernelspec": {
   "display_name": "Python 3 (ipykernel)",
   "language": "python",
   "name": "python3"
  },
  "language_info": {
   "codemirror_mode": {
    "name": "ipython",
    "version": 3
   },
   "file_extension": ".py",
   "mimetype": "text/x-python",
   "name": "python",
   "nbconvert_exporter": "python",
   "pygments_lexer": "ipython3",
   "version": "3.10.2"
  }
 },
 "nbformat": 4,
 "nbformat_minor": 5
}
